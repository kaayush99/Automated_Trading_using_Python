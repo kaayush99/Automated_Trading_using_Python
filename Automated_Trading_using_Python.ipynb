{
 "cells": [
  {
   "cell_type": "markdown",
   "metadata": {},
   "source": [
    "# Automated Trading Using Python"
   ]
  },
  {
   "cell_type": "markdown",
   "metadata": {},
   "source": [
    "1. Extracts financial data using Quandl API\n",
    "2. Numpy for calculating daily returns, Pandas for backtesting, Matplotlib for plotting graph\n",
    "3. Strategy of Simple Moving Averages (SMA) over 30 days and 100 days\n",
    "4. Finally indicates when to Buy/Sell the Stock/Asset using Dual Moving Average Crossover (DMAC)\n",
    "5. Tested on Microsoft Corp., Apple Inc., etc "
   ]
  },
  {
   "cell_type": "code",
   "execution_count": 1,
   "metadata": {},
   "outputs": [
    {
     "data": {
      "text/html": [
       "<div>\n",
       "<style scoped>\n",
       "    .dataframe tbody tr th:only-of-type {\n",
       "        vertical-align: middle;\n",
       "    }\n",
       "\n",
       "    .dataframe tbody tr th {\n",
       "        vertical-align: top;\n",
       "    }\n",
       "\n",
       "    .dataframe thead th {\n",
       "        text-align: right;\n",
       "    }\n",
       "</style>\n",
       "<table border=\"1\" class=\"dataframe\">\n",
       "  <thead>\n",
       "    <tr style=\"text-align: right;\">\n",
       "      <th></th>\n",
       "      <th>Open</th>\n",
       "      <th>High</th>\n",
       "      <th>Low</th>\n",
       "      <th>Close</th>\n",
       "      <th>Volume</th>\n",
       "      <th>Dividend</th>\n",
       "      <th>Split</th>\n",
       "      <th>Adj_Open</th>\n",
       "      <th>Adj_High</th>\n",
       "      <th>Adj_Low</th>\n",
       "      <th>Adj_Close</th>\n",
       "      <th>Adj_Volume</th>\n",
       "    </tr>\n",
       "    <tr>\n",
       "      <th>Date</th>\n",
       "      <th></th>\n",
       "      <th></th>\n",
       "      <th></th>\n",
       "      <th></th>\n",
       "      <th></th>\n",
       "      <th></th>\n",
       "      <th></th>\n",
       "      <th></th>\n",
       "      <th></th>\n",
       "      <th></th>\n",
       "      <th></th>\n",
       "      <th></th>\n",
       "    </tr>\n",
       "  </thead>\n",
       "  <tbody>\n",
       "    <tr>\n",
       "      <th>2013-09-03</th>\n",
       "      <td>31.7500</td>\n",
       "      <td>32.07</td>\n",
       "      <td>31.29</td>\n",
       "      <td>31.880</td>\n",
       "      <td>154507000.0</td>\n",
       "      <td>0.0</td>\n",
       "      <td>1.0</td>\n",
       "      <td>27.219518</td>\n",
       "      <td>27.493856</td>\n",
       "      <td>26.825156</td>\n",
       "      <td>27.330968</td>\n",
       "      <td>154507000.0</td>\n",
       "    </tr>\n",
       "    <tr>\n",
       "      <th>2013-09-04</th>\n",
       "      <td>31.3900</td>\n",
       "      <td>31.47</td>\n",
       "      <td>31.11</td>\n",
       "      <td>31.195</td>\n",
       "      <td>142320600.0</td>\n",
       "      <td>0.0</td>\n",
       "      <td>1.0</td>\n",
       "      <td>26.910887</td>\n",
       "      <td>26.979472</td>\n",
       "      <td>26.670841</td>\n",
       "      <td>26.743712</td>\n",
       "      <td>142320600.0</td>\n",
       "    </tr>\n",
       "    <tr>\n",
       "      <th>2013-09-05</th>\n",
       "      <td>31.1000</td>\n",
       "      <td>31.44</td>\n",
       "      <td>30.95</td>\n",
       "      <td>31.235</td>\n",
       "      <td>71644900.0</td>\n",
       "      <td>0.0</td>\n",
       "      <td>1.0</td>\n",
       "      <td>26.662268</td>\n",
       "      <td>26.953752</td>\n",
       "      <td>26.533672</td>\n",
       "      <td>26.778004</td>\n",
       "      <td>71644900.0</td>\n",
       "    </tr>\n",
       "    <tr>\n",
       "      <th>2013-09-06</th>\n",
       "      <td>31.3100</td>\n",
       "      <td>31.39</td>\n",
       "      <td>31.13</td>\n",
       "      <td>31.152</td>\n",
       "      <td>75434900.0</td>\n",
       "      <td>0.0</td>\n",
       "      <td>1.0</td>\n",
       "      <td>26.842302</td>\n",
       "      <td>26.910887</td>\n",
       "      <td>26.687987</td>\n",
       "      <td>26.706848</td>\n",
       "      <td>75434900.0</td>\n",
       "    </tr>\n",
       "    <tr>\n",
       "      <th>2013-09-09</th>\n",
       "      <td>31.2208</td>\n",
       "      <td>31.79</td>\n",
       "      <td>31.20</td>\n",
       "      <td>31.655</td>\n",
       "      <td>49628500.0</td>\n",
       "      <td>0.0</td>\n",
       "      <td>1.0</td>\n",
       "      <td>26.765831</td>\n",
       "      <td>27.253810</td>\n",
       "      <td>26.747999</td>\n",
       "      <td>27.138074</td>\n",
       "      <td>49628500.0</td>\n",
       "    </tr>\n",
       "  </tbody>\n",
       "</table>\n",
       "</div>"
      ],
      "text/plain": [
       "               Open   High    Low   Close       Volume  Dividend  Split  \\\n",
       "Date                                                                      \n",
       "2013-09-03  31.7500  32.07  31.29  31.880  154507000.0       0.0    1.0   \n",
       "2013-09-04  31.3900  31.47  31.11  31.195  142320600.0       0.0    1.0   \n",
       "2013-09-05  31.1000  31.44  30.95  31.235   71644900.0       0.0    1.0   \n",
       "2013-09-06  31.3100  31.39  31.13  31.152   75434900.0       0.0    1.0   \n",
       "2013-09-09  31.2208  31.79  31.20  31.655   49628500.0       0.0    1.0   \n",
       "\n",
       "             Adj_Open   Adj_High    Adj_Low  Adj_Close   Adj_Volume  \n",
       "Date                                                                 \n",
       "2013-09-03  27.219518  27.493856  26.825156  27.330968  154507000.0  \n",
       "2013-09-04  26.910887  26.979472  26.670841  26.743712  142320600.0  \n",
       "2013-09-05  26.662268  26.953752  26.533672  26.778004   71644900.0  \n",
       "2013-09-06  26.842302  26.910887  26.687987  26.706848   75434900.0  \n",
       "2013-09-09  26.765831  27.253810  26.747999  27.138074   49628500.0  "
      ]
     },
     "execution_count": 1,
     "metadata": {},
     "output_type": "execute_result"
    }
   ],
   "source": [
    "import pandas as pd\n",
    "import quandl as qd\n",
    "\n",
    "qd.ApiConfig.api_key = \"V1kSTQjxzFxEw-98aPWK\"\n",
    "\n",
    "msft_data = qd.get(\"EOD/MSFT\",\n",
    "\t\t\t\tstart_date=\"2010-04-04\",\n",
    "\t\t\t\tend_date=\"2020-04-04\")\n",
    "msft_data.head()"
   ]
  },
  {
   "cell_type": "code",
   "execution_count": 2,
   "metadata": {},
   "outputs": [
    {
     "name": "stdout",
     "output_type": "stream",
     "text": [
      "            Adj_Close\n",
      "Date                 \n",
      "2013-09-03   0.000000\n",
      "2013-09-04  -0.021487\n",
      "2013-09-05   0.001282\n",
      "2013-09-06  -0.002657\n",
      "2013-09-09   0.016147\n",
      "...               ...\n",
      "2017-12-21  -0.000234\n",
      "2017-12-22   0.000117\n",
      "2017-12-26  -0.001286\n",
      "2017-12-27   0.003630\n",
      "2017-12-28   0.000117\n",
      "\n",
      "[1090 rows x 1 columns]\n"
     ]
    }
   ],
   "source": [
    "# Import numpy package\n",
    "import numpy as np\n",
    "\n",
    "\n",
    "# assign `Adj Close` to `close_price`\n",
    "close_price = msft_data[['Adj_Close']]\n",
    "\n",
    "# returns as fractional change\n",
    "daily_return = close_price.pct_change()\n",
    "\n",
    "# replacing NA values with 0\n",
    "daily_return.fillna(0, inplace=True)\n",
    "\n",
    "print(daily_return)"
   ]
  },
  {
   "cell_type": "code",
   "execution_count": 3,
   "metadata": {},
   "outputs": [
    {
     "name": "stdout",
     "output_type": "stream",
     "text": [
      "Date\n",
      "2017-12-14    80.037881\n",
      "2017-12-15    80.140734\n",
      "2017-12-18    80.225732\n",
      "2017-12-19    80.282702\n",
      "2017-12-20    80.336131\n",
      "2017-12-21    80.379714\n",
      "2017-12-22    80.438538\n",
      "2017-12-26    80.500837\n",
      "2017-12-27    80.571123\n",
      "2017-12-28    80.637918\n",
      "Name: Adj_Close, dtype: float64\n",
      "Date\n",
      "2017-12-14    73.987831\n",
      "2017-12-15    74.117670\n",
      "2017-12-18    74.251441\n",
      "2017-12-19    74.381084\n",
      "2017-12-20    74.510981\n",
      "2017-12-21    74.641824\n",
      "2017-12-22    74.775794\n",
      "2017-12-26    74.909753\n",
      "2017-12-27    75.041658\n",
      "2017-12-28    75.176312\n",
      "Name: Adj_Close, dtype: float64\n"
     ]
    }
   ],
   "source": [
    "# assigning adjusted closing prices\n",
    "# to adj_prices\n",
    "adj_price = msft_data['Adj_Close']\n",
    "\n",
    "# calculate the moving average\n",
    "mav1 = adj_price.rolling(window=30).mean()\n",
    "mav2 = adj_price.rolling(window=100).mean()\n",
    "\n",
    "# print the result\n",
    "print(mav1[-10:])\n",
    "print(mav2[-10:])"
   ]
  },
  {
   "cell_type": "code",
   "execution_count": 4,
   "metadata": {},
   "outputs": [],
   "source": [
    "#dataframe to store the data\n",
    "data = pd.DataFrame()\n",
    "data['adj_price'] = adj_price\n",
    "data['mav1'] = mav1\n",
    "data['mav2'] = mav2\n",
    "\n",
    "#function to indicate when to buy and sell the stock/asset\n",
    "def buy_sell(data):\n",
    "    sigPriceBuy = []\n",
    "    sigPriceSell = []\n",
    "    flag = -1\n",
    "    \n",
    "    for i in range(len(data)):\n",
    "        if data['mav1'][i] > data['mav2'][i]:\n",
    "            if flag !=1:\n",
    "                sigPriceBuy.append(data['adj_price'][i])\n",
    "                sigPriceSell.append(np.nan)\n",
    "                flag = 1\n",
    "            else:\n",
    "                sigPriceBuy.append(np.nan)\n",
    "                sigPriceSell.append(np.nan)\n",
    "        elif data['mav1'][i] < data['mav2'][i]:\n",
    "            if flag != 0:\n",
    "                sigPriceBuy.append(np.nan)\n",
    "                sigPriceSell.append(data['adj_price'][i])\n",
    "                flag = 0\n",
    "            else:\n",
    "                sigPriceBuy.append(np.nan)\n",
    "                sigPriceSell.append(np.nan)\n",
    "        else:\n",
    "                sigPriceBuy.append(np.nan)\n",
    "                sigPriceSell.append(np.nan)\n",
    "    return (sigPriceBuy, sigPriceSell)\n",
    "\n",
    "#store the buy and sell data into a variable\n",
    "buy_sell = buy_sell(data)\n",
    "data['Buy_Signal_Price'] = buy_sell[0]\n",
    "data['Sell_Signal_Price'] = buy_sell[1]"
   ]
  },
  {
   "cell_type": "code",
   "execution_count": 5,
   "metadata": {},
   "outputs": [
    {
     "data": {
      "text/plain": [
       "<matplotlib.legend.Legend at 0xbdfac811c0>"
      ]
     },
     "execution_count": 5,
     "metadata": {},
     "output_type": "execute_result"
    },
    {
     "data": {
      "image/png": "[encoded data removed]",
      "text/plain": [
       "<Figure size 432x288 with 1 Axes>"
      ]
     },
     "metadata": {
      "needs_background": "light"
     },
     "output_type": "display_data"
    }
   ],
   "source": [
    "# import the matplotlib package\n",
    "# to see the plot\n",
    "import matplotlib.pyplot as plt\n",
    "\n",
    "adj_price.plot(label = 'MSFT', alpha = 0.35)\n",
    "plt.title(\"Microsoft Corp\", loc = 'center')\n",
    "plt.ylabel('USD ($)')\n",
    "mav1.plot(label = 'SMA30', alpha = 0.35)\n",
    "mav2.plot(label = 'SMA100', alpha = 0.35)\n",
    "plt.scatter(data.index, data['Buy_Signal_Price'], label = 'Buy', marker = '^', color = 'green')\n",
    "plt.scatter(data.index, data['Sell_Signal_Price'], label = 'Sell', marker = 'v', color = 'red')\n",
    "plt.legend()"
   ]
  },
  {
   "cell_type": "code",
   "execution_count": null,
   "metadata": {},
   "outputs": [],
   "source": []
  }
 ],
 "metadata": {
  "kernelspec": {
   "display_name": "Python 3",
   "language": "python",
   "name": "python3"
  },
  "language_info": {
   "codemirror_mode": {
    "name": "ipython",
    "version": 3
   },
   "file_extension": ".py",
   "mimetype": "text/x-python",
   "name": "python",
   "nbconvert_exporter": "python",
   "pygments_lexer": "ipython3",
   "version": "3.8.3"
  }
 },
 "nbformat": 4,
 "nbformat_minor": 4
}
